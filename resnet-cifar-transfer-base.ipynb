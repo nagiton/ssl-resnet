{
 "cells": [
  {
   "cell_type": "code",
   "execution_count": 1,
   "metadata": {},
   "outputs": [
    {
     "name": "stderr",
     "output_type": "stream",
     "text": [
      "Using TensorFlow backend.\n",
      "/home/ec2-user/anaconda3/envs/amazonei_tensorflow2_p36/lib/python3.6/site-packages/keras_applications/resnet50.py:265: UserWarning: The output shape of `ResNet50(include_top=False)` has been changed since Keras 2.2.0.\n",
      "  warnings.warn('The output shape of `ResNet50(include_top=False)` '\n"
     ]
    }
   ],
   "source": [
    "import keras\n",
    "import keras.backend as K\n",
    "from keras.datasets import cifar10\n",
    "import matplotlib.pyplot as plt\n",
    "import pickle\n",
    "\n",
    "(X_train, Y_train), (X_test, Y_test) = cifar10.load_data()\n",
    "\n",
    "resnet = keras.applications.resnet50.ResNet50(include_top=False, \n",
    "                                              weights='imagenet', \n",
    "                                              input_tensor=None, \n",
    "                                              input_shape=(224,224,3), \n",
    "                                              pooling=None, \n",
    "                                              classes=1000)"
   ]
  },
  {
   "cell_type": "code",
   "execution_count": 2,
   "metadata": {},
   "outputs": [],
   "source": [
    "size_factor = int(224/32) # resnet 224 x 224, cifar10 32 x 32\n",
    "X_train = K.resize_images(X_train[0:100], size_factor, size_factor, data_format=\"channels_last\").numpy()\n",
    "Y_train = Y_train[0:100]\n",
    "X_test = K.resize_images(X_test[0:1000], size_factor, size_factor, data_format=\"channels_last\").numpy()\n",
    "Y_test = Y_test[0:1000]"
   ]
  },
  {
   "cell_type": "code",
   "execution_count": 3,
   "metadata": {},
   "outputs": [
    {
     "data": {
      "text/plain": [
       "(100, 224, 224, 3)"
      ]
     },
     "execution_count": 3,
     "metadata": {},
     "output_type": "execute_result"
    }
   ],
   "source": [
    "X_train.shape"
   ]
  },
  {
   "cell_type": "code",
   "execution_count": 4,
   "metadata": {},
   "outputs": [
    {
     "data": {
      "text/plain": [
       "(100, 1)"
      ]
     },
     "execution_count": 4,
     "metadata": {},
     "output_type": "execute_result"
    }
   ],
   "source": [
    "Y_train.shape"
   ]
  },
  {
   "cell_type": "code",
   "execution_count": 5,
   "metadata": {},
   "outputs": [],
   "source": [
    "model = keras.Sequential([resnet,\n",
    "                          keras.layers.GlobalAveragePooling2D(),\n",
    "                          keras.layers.Dense(10, activation='softmax')\n",
    "                         ])"
   ]
  },
  {
   "cell_type": "code",
   "execution_count": 6,
   "metadata": {},
   "outputs": [],
   "source": [
    "resnet.trainable = False"
   ]
  },
  {
   "cell_type": "code",
   "execution_count": 7,
   "metadata": {},
   "outputs": [
    {
     "name": "stdout",
     "output_type": "stream",
     "text": [
      "Model: \"sequential_1\"\n",
      "_________________________________________________________________\n",
      "Layer (type)                 Output Shape              Param #   \n",
      "=================================================================\n",
      "resnet50 (Model)             (None, 7, 7, 2048)        23587712  \n",
      "_________________________________________________________________\n",
      "global_average_pooling2d_1 ( (None, 2048)              0         \n",
      "_________________________________________________________________\n",
      "dense_1 (Dense)              (None, 10)                20490     \n",
      "=================================================================\n",
      "Total params: 23,608,202\n",
      "Trainable params: 20,490\n",
      "Non-trainable params: 23,587,712\n",
      "_________________________________________________________________\n"
     ]
    }
   ],
   "source": [
    "model.summary()"
   ]
  },
  {
   "cell_type": "code",
   "execution_count": 8,
   "metadata": {
    "scrolled": true
   },
   "outputs": [
    {
     "name": "stdout",
     "output_type": "stream",
     "text": [
      "Train on 80 samples, validate on 20 samples\n",
      "Epoch 1/20\n",
      "80/80 [==============================] - 15s 191ms/step - loss: 2.5053 - accuracy: 0.1375 - val_loss: 2.5840 - val_accuracy: 0.1000\n",
      "Epoch 2/20\n",
      "80/80 [==============================] - 13s 157ms/step - loss: 2.1845 - accuracy: 0.1375 - val_loss: 2.5354 - val_accuracy: 0.1000\n",
      "Epoch 3/20\n",
      "80/80 [==============================] - 13s 159ms/step - loss: 1.9958 - accuracy: 0.1750 - val_loss: 2.5005 - val_accuracy: 0.1000\n",
      "Epoch 4/20\n",
      "80/80 [==============================] - 13s 158ms/step - loss: 1.7956 - accuracy: 0.3000 - val_loss: 2.4527 - val_accuracy: 0.1000\n",
      "Epoch 5/20\n",
      "80/80 [==============================] - 13s 160ms/step - loss: 1.5831 - accuracy: 0.4875 - val_loss: 2.4087 - val_accuracy: 0.1500\n",
      "Epoch 6/20\n",
      "80/80 [==============================] - 13s 160ms/step - loss: 1.3823 - accuracy: 0.6625 - val_loss: 2.3766 - val_accuracy: 0.1500\n",
      "Epoch 7/20\n",
      "80/80 [==============================] - 13s 159ms/step - loss: 1.2038 - accuracy: 0.7750 - val_loss: 2.3542 - val_accuracy: 0.1500\n",
      "Epoch 8/20\n",
      "80/80 [==============================] - 13s 159ms/step - loss: 1.0467 - accuracy: 0.9000 - val_loss: 2.3360 - val_accuracy: 0.1500\n",
      "Epoch 9/20\n",
      "80/80 [==============================] - 13s 158ms/step - loss: 0.9072 - accuracy: 0.9375 - val_loss: 2.3175 - val_accuracy: 0.1500\n",
      "Epoch 10/20\n",
      "80/80 [==============================] - 13s 158ms/step - loss: 0.7830 - accuracy: 0.9750 - val_loss: 2.2967 - val_accuracy: 0.1500\n",
      "Epoch 11/20\n",
      "80/80 [==============================] - 13s 158ms/step - loss: 0.6731 - accuracy: 1.0000 - val_loss: 2.2745 - val_accuracy: 0.2000\n",
      "Epoch 12/20\n",
      "80/80 [==============================] - 13s 158ms/step - loss: 0.5769 - accuracy: 1.0000 - val_loss: 2.2535 - val_accuracy: 0.2500\n",
      "Epoch 13/20\n",
      "80/80 [==============================] - 13s 169ms/step - loss: 0.4941 - accuracy: 1.0000 - val_loss: 2.2366 - val_accuracy: 0.2500\n",
      "Epoch 14/20\n",
      "80/80 [==============================] - 13s 159ms/step - loss: 0.4238 - accuracy: 1.0000 - val_loss: 2.2256 - val_accuracy: 0.2500\n",
      "Epoch 15/20\n",
      "80/80 [==============================] - 13s 159ms/step - loss: 0.3647 - accuracy: 1.0000 - val_loss: 2.2204 - val_accuracy: 0.2000\n",
      "Epoch 16/20\n",
      "80/80 [==============================] - 13s 157ms/step - loss: 0.3150 - accuracy: 1.0000 - val_loss: 2.2200 - val_accuracy: 0.2500\n",
      "Epoch 17/20\n",
      "80/80 [==============================] - 13s 157ms/step - loss: 0.2730 - accuracy: 1.0000 - val_loss: 2.2231 - val_accuracy: 0.2500\n",
      "Epoch 18/20\n",
      "80/80 [==============================] - 13s 159ms/step - loss: 0.2373 - accuracy: 1.0000 - val_loss: 2.2283 - val_accuracy: 0.2500\n",
      "Epoch 19/20\n",
      "80/80 [==============================] - 13s 160ms/step - loss: 0.2069 - accuracy: 1.0000 - val_loss: 2.2352 - val_accuracy: 0.2500\n",
      "Epoch 20/20\n",
      "80/80 [==============================] - 13s 158ms/step - loss: 0.1810 - accuracy: 1.0000 - val_loss: 2.2434 - val_accuracy: 0.3000\n"
     ]
    }
   ],
   "source": [
    "model.compile(optimizer=keras.optimizers.Adam(lr=1e-3),\n",
    "              loss='sparse_categorical_crossentropy',\n",
    "              metrics=['accuracy'])\n",
    "history = model.fit(X_train, \n",
    "                    Y_train, \n",
    "                    epochs=20, \n",
    "                    validation_split=0.2, \n",
    "                    batch_size=80,)"
   ]
  },
  {
   "cell_type": "code",
   "execution_count": 11,
   "metadata": {},
   "outputs": [
    {
     "data": {
      "image/png": "[encoded data removed]",
      "text/plain": [
       "<Figure size 432x288 with 1 Axes>"
      ]
     },
     "metadata": {
      "needs_background": "light"
     },
     "output_type": "display_data"
    }
   ],
   "source": [
    "plt.plot(history.history['accuracy'])\n",
    "plt.plot(history.history['val_accuracy'])\n",
    "plt.title('Model accuracy')\n",
    "plt.ylabel('Accuracy')\n",
    "plt.xlabel('Epoch')\n",
    "plt.legend(['Train', 'Test'], loc='upper left')\n",
    "plt.show() "
   ]
  },
  {
   "cell_type": "code",
   "execution_count": 10,
   "metadata": {},
   "outputs": [
    {
     "data": {
      "image/png": "[encoded data removed]",
      "text/plain": [
       "<Figure size 432x288 with 1 Axes>"
      ]
     },
     "metadata": {
      "needs_background": "light"
     },
     "output_type": "display_data"
    }
   ],
   "source": [
    "plt.plot(history.history['loss'])\n",
    "plt.plot(history.history['val_loss'])\n",
    "plt.title('Model loss')\n",
    "plt.ylabel('Loss')\n",
    "plt.xlabel('Epoch')\n",
    "plt.legend(['Train', 'Test'], loc='upper left')\n",
    "plt.show()"
   ]
  },
  {
   "cell_type": "code",
   "execution_count": 12,
   "metadata": {},
   "outputs": [
    {
     "name": "stdout",
     "output_type": "stream",
     "text": [
      "1000/1000 [==============================] - 145s 145ms/step\n"
     ]
    }
   ],
   "source": [
    "score = model.evaluate(X_test, Y_test, verbose=1, batch_size=128)"
   ]
  },
  {
   "cell_type": "code",
   "execution_count": 13,
   "metadata": {},
   "outputs": [
    {
     "data": {
      "text/plain": [
       "[2.0910501079559327, 0.24199999868869781]"
      ]
     },
     "execution_count": 13,
     "metadata": {},
     "output_type": "execute_result"
    }
   ],
   "source": [
    "score "
   ]
  },
  {
   "cell_type": "code",
   "execution_count": 18,
   "metadata": {},
   "outputs": [],
   "source": [
    "model.save('epoch20_adam.h5')\n",
    "with open('epoch20_adam.history', 'wb') as file_pi:\n",
    "    pickle.dump(history, file_pi)"
   ]
  }
 ],
 "metadata": {
  "kernelspec": {
   "display_name": "conda_amazonei_tensorflow2_p36",
   "language": "python",
   "name": "conda_amazonei_tensorflow2_p36"
  },
  "language_info": {
   "codemirror_mode": {
    "name": "ipython",
    "version": 3
   },
   "file_extension": ".py",
   "mimetype": "text/x-python",
   "name": "python",
   "nbconvert_exporter": "python",
   "pygments_lexer": "ipython3",
   "version": "3.6.10"
  }
 },
 "nbformat": 4,
 "nbformat_minor": 4
}
